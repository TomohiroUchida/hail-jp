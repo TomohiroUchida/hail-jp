{
 "cells": [
  {
   "cell_type": "markdown",
   "metadata": {},
   "source": [
    "# GWAS Tutorial for Hail-jp hands on seminar"
   ]
  },
  {
   "cell_type": "markdown",
   "metadata": {},
   "source": [
    "このノートブックは、HailのドキュメントにあるGenome-Wide Association Study(GWAS) Tutorial(https://hail.is/docs/0.2/tutorials-landing.html) をベースに、Hail-jpのハンズオンセミナーのために加筆したものです。\n",
    "\n",
    "遺伝子データセットを操作および探索する機能に重点を置いて、Hailの機能の概要を習得できるように設計されています。 \n",
    "また、GWAS解析の中で、母集団の層別化によって引き起こされる交絡を制御する手順も入っています。\n",
    "\n",
    "****"
   ]
  },
  {
   "cell_type": "markdown",
   "metadata": {},
   "source": [
    "## Hailを起動 \n",
    "**モジュールhailをhlとしてロードし、イニシャライズします。**"
   ]
  },
  {
   "cell_type": "code",
   "execution_count": null,
   "metadata": {},
   "outputs": [],
   "source": [
    "import hail as hl\n",
    "hl.init()"
   ]
  },
  {
   "cell_type": "markdown",
   "metadata": {},
   "source": [
    "Hailのステキなアスキーアートが表示されれば準備OKです。  \n",
    "\n",
    "**次に、ノートブックで使用するためにいくつかの標準Pythonライブラリをインポートします。**"
   ]
  },
  {
   "cell_type": "markdown",
   "metadata": {},
   "source": [
    "ひとつひとつが、このノートブックの後半で使われる機能をセットアップしています。   \n",
    "少し冗長に感じるかもしれませんが、以下に解説をいれておきます。\n",
    "\n",
    "\n",
    "|命令文|意味、用途|\n",
    "|----|----|\n",
    "|from hail.plot import show| 後半の図表作成、show(p)で使われる機能を準備しています|\n",
    "|from pprint import pprint|後半の結果表示で使われます。きれいに整形された出力や表示が可能です|\n",
    "|hl.plot.output_notebook()|データ可視化ライブラリbokehを利用し、notebookに図表を描画できるようにしています|"
   ]
  },
  {
   "cell_type": "code",
   "execution_count": null,
   "metadata": {},
   "outputs": [],
   "source": [
    "from hail.plot import show\n",
    "from pprint import pprint\n",
    "hl.plot.output_notebook()"
   ]
  },
  {
   "cell_type": "markdown",
   "metadata": {},
   "source": [
    "***\n",
    "## サンプルデータの準備と読み込み"
   ]
  },
  {
   "cell_type": "markdown",
   "metadata": {},
   "source": [
    "### Download public 1000 Genomes data\n",
    "\n",
    "1000人ゲノムのデータ(ジェノタイピングされたSNPが入った大きなVCFファイル)を約20MBにダウンサンプリングすることによって作成された小さなデータを使用します。 また、別のテキストファイルからのサンプルメタデータとバリアントメタデータを統合していきます。\n",
    "\n",
    "これらのファイルはHail teamにより、Google Storageでホストされています。    \n",
    "次の命令を実行することで次のファイルがローカル環境にダウンロードされます。"
   ]
  },
  {
   "cell_type": "markdown",
   "metadata": {},
   "source": [
    "<img src=\"images/hail-sample-datas-list.png\" width=\"300\">"
   ]
  },
  {
   "cell_type": "code",
   "execution_count": null,
   "metadata": {},
   "outputs": [],
   "source": [
    "hl.utils.get_1kg('data/')"
   ]
  },
  {
   "cell_type": "markdown",
   "metadata": {},
   "source": [
    "### VCFファイルをインポートします\n",
    "\n",
    "VCFファイルをHailネイティブなデータ形式である[MatrixTable](https://hail.is/docs/0.2/hail.MatrixTable.html#hail.MatrixTable)にインポートします。  \n",
    "まず冒頭のhl.import_vcf('data/1kg.vcf.bgz')でインポートし、  \n",
    "つづきの.write('data/1kg.mt', overwrite=True)でHailのネイティブなファイル形式で書き込んでいます。  \n",
    "これにより、以降のデータ解析がはるかに高速になります。"
   ]
  },
  {
   "cell_type": "code",
   "execution_count": null,
   "metadata": {},
   "outputs": [],
   "source": [
    "hl.import_vcf('data/1kg.vcf.bgz').write('data/1kg.mt', overwrite=True)"
   ]
  },
  {
   "cell_type": "markdown",
   "metadata": {},
   "source": [
    "**次に、今書き込んだファイルを変数mtとして読み込みます**  \n",
    "任意の名前をつけられますがここでは、'm'atrix 't'ableということでmtとしてみました。"
   ]
  },
  {
   "cell_type": "markdown",
   "metadata": {},
   "source": [
    "hlの続きにread_matrix_tableとあるのがMatrixTableを読み込む命令です。  \n",
    "詳しいオプションはHailのドキュメント \n",
    "(https://hail.is/docs/0.2/methods/impex.html#hail.methods.read_matrix_table)  \n",
    "に記載があります。  \n",
    "他の機能を探したいときやオプションを知りたいときにはこのあたりを参照します。\n"
   ]
  },
  {
   "cell_type": "markdown",
   "metadata": {},
   "source": [
    "<img src=\"images/RefDoc-read_matrix_table.png\" width=\"500\">"
   ]
  },
  {
   "cell_type": "code",
   "execution_count": null,
   "metadata": {},
   "outputs": [],
   "source": [
    "mt = hl.read_matrix_table('data/1kg.mt')"
   ]
  },
  {
   "cell_type": "markdown",
   "metadata": {},
   "source": [
    "### データを見てみましょう\n",
    "\n",
    "データセットを操作し、一部を確認したり、条件に応じたデータを抽出したり、要約したりといったことは簡単に実行できます。  \n",
    "この辺りの機能を以下で示していきます。"
   ]
  },
  {
   "cell_type": "markdown",
   "metadata": {},
   "source": [
    "**rowフィールドを覗いてみます**\n",
    "\n",
    "メソッド[rows](https://hail.is/docs/0.2/hail.MatrixTable.html#hail.MatrixTable.rows) で、MatrixTableからrowフィールドを取得します。  \n",
    "\n",
    "つづけて[select](https://hail.is/docs/0.2/hail.Table.html#hail.Table.select) メソッドで、取り出す情報の選択をしています。  \n",
    "(引数として、テーブル内のフィールド名を参照する文字列や、[Hail Expression](https://hail.is/docs/0.2/hail.expr.Expression.html?#expression)\n",
    "のいずれかを指定できます。)  \n",
    "(ここでは、引数を空白のままにしていますが、そうするとrowフィールドのキーである `locus`と` alleles`のみを返してきます。)\n",
    "\n",
    "つづけて`show` を実行することでnotebookに表示ができます。  \n",
    "(メソッドに引数5を指定して使うことで、バリアントの最初の5つを表示させることができます。 )\n"
   ]
  },
  {
   "cell_type": "code",
   "execution_count": null,
   "metadata": {},
   "outputs": [],
   "source": [
    "mt.rows().select().show(5)"
   ]
  },
  {
   "cell_type": "markdown",
   "metadata": {},
   "source": [
    "もしくは、row_keyという命令を使うとRowのkeyを表示するので同じ結果が得られます。　"
   ]
  },
  {
   "cell_type": "code",
   "execution_count": null,
   "metadata": {},
   "outputs": [],
   "source": [
    "mt.row_key.show(5)"
   ]
  },
  {
   "cell_type": "markdown",
   "metadata": {},
   "source": [
    "#### 補足 rowフィールドには何が入っているの？？\n",
    "**mt.rows().describe()を実行するとフィールドの概要が表示されます**  \n",
    "\n",
    "見てみると、rowsにはvariantに関するデータがあり、locus, alleles, rsid, qual, filters, infoなどが含まれていることがわかります。\n"
   ]
  },
  {
   "cell_type": "code",
   "execution_count": null,
   "metadata": {},
   "outputs": [],
   "source": [
    "mt.rows().describe()"
   ]
  },
  {
   "cell_type": "markdown",
   "metadata": {},
   "source": [
    "### MatrixTableにあるサンプルIDを見てみる\n",
    "サンプルIDの初めの5個を見てみます。  \n",
    "sは、mtのcolumnフィールドのkeyで、サンプルIDが格納されています。\n",
    "columnフィールドにはサンプルに関する情報が格納されます。"
   ]
  },
  {
   "cell_type": "code",
   "execution_count": null,
   "metadata": {},
   "outputs": [],
   "source": [
    "mt.s.show(5)"
   ]
  },
  {
   "cell_type": "markdown",
   "metadata": {},
   "source": [
    "**最初のいくつかの遺伝子型を表示させてみます**  \n",
    "\n",
    "遺伝子型はentriesフィールドに入っていて、  \n",
    "[entries](https://hail.is/docs/0.2/hail.MatrixTable.html#hail.MatrixTable.entries)  \n",
    "を使うことで取り出せます。  \n",
    "\n",
    "`take`を使い表示させています。  \n",
    "`take` は最初のn行を収集してきます。  \n",
    "\n",
    "もしくは、表示形式は異なりますが先ほど使った`show`でも構いません。  "
   ]
  },
  {
   "cell_type": "code",
   "execution_count": null,
   "metadata": {},
   "outputs": [],
   "source": [
    "mt.entry.take(5)"
   ]
  },
  {
   "cell_type": "code",
   "execution_count": null,
   "metadata": {},
   "outputs": [],
   "source": [
    "mt.entry.show(5)"
   ]
  },
  {
   "cell_type": "markdown",
   "metadata": {},
   "source": [
    "***\n",
    "## MatrixTable ?? rowフィールド？？ 整理してみます\n",
    "ここまでで、VCFファイルをインポートして、hailのネイティブな形式であるMatrixTableにしました。  \n",
    "また、MatrixTableの中を少し見てみました。  \n",
    "MatrixTableではVCFファイルにある様々なデータを、計算機で扱いやすいように整理して格納していますが、もう少し詳しくみてみます。  "
   ]
  },
  {
   "cell_type": "markdown",
   "metadata": {},
   "source": [
    "## MatrixTableの概要を知る\n",
    "**mt.describe()を実行すると概要をみることができます**  \n",
    "\n",
    "Global fields, Column fields, Row fields, Entry fields, Column key, Row keyがあることがわかります。  \n",
    "\n",
    "VCFファイルにあった情報がどのフィールドに格納されているか、確認してみましょう。  \n",
    "\n",
    "Column fieldにはサンプルの情報が、  \n",
    "Row fieldはバリアントの情報が、  \n",
    "Entry fieldにはサンプルごとの情報が入っていると思います。\n"
   ]
  },
  {
   "cell_type": "code",
   "execution_count": null,
   "metadata": {},
   "outputs": [],
   "source": [
    "mt.describe()"
   ]
  },
  {
   "cell_type": "markdown",
   "metadata": {},
   "source": [
    "**※実行してみましょう**  \n",
    "次の3つのセルの、冒頭にある'#'を削除して実行してみてください。  \n",
    "それぞれのフィールドの内容が表示されればOKです。"
   ]
  },
  {
   "cell_type": "markdown",
   "metadata": {},
   "source": [
    "- column field"
   ]
  },
  {
   "cell_type": "code",
   "execution_count": null,
   "metadata": {},
   "outputs": [],
   "source": [
    "#mt.cols().show(5)"
   ]
  },
  {
   "cell_type": "markdown",
   "metadata": {},
   "source": [
    "- row field"
   ]
  },
  {
   "cell_type": "code",
   "execution_count": null,
   "metadata": {},
   "outputs": [],
   "source": [
    "#mt.rows().show(5)"
   ]
  },
  {
   "cell_type": "markdown",
   "metadata": {},
   "source": [
    "- entry field"
   ]
  },
  {
   "cell_type": "code",
   "execution_count": null,
   "metadata": {},
   "outputs": [],
   "source": [
    "#mt.entries().show(5)"
   ]
  },
  {
   "cell_type": "markdown",
   "metadata": {},
   "source": [
    "##### 実行できましたか？？ "
   ]
  },
  {
   "cell_type": "markdown",
   "metadata": {},
   "source": [
    "hailではこのようにして格納されたデータを参照することができます。  \n",
    "また、ひとつひとつのデータについて検索したり、条件で絞り込んだりする操作ができます。   \n",
    "\n",
    "このチュートリアルの後半ではそうした機能を使い、解析を進めていくことをみることができます。\n",
    "\n",
    "※参考:  \n",
    "[MatrixTableのCheat sheet](https://hail.is/docs/0.2/_static/cheatsheets/hail_matrix_tables_cheat_sheet.pdf)も便利ですよ。  \n",
    "また、あとで出てくる[HailのTable(以下 Table)のcheat sheet](https://hail.is/docs/0.2/_static/cheatsheets/hail_tables_cheat_sheet.pdf)もあります。"
   ]
  },
  {
   "cell_type": "markdown",
   "metadata": {},
   "source": [
    "### columnフィールドへデータを追加\n",
    "\n",
    "HailのMatrixTableでは遺伝統計研究で重要なアノテーションなど、任意の新たなデータを追加していくことができます。\n",
    "Columnフィールドはサンプルの表現型、祖先、性別や共変量に関する情報を格納するのに使います。  \n",
    "RowフィールドはQCまたは分析で使用するための遺伝子や機能的影響などの情報を格納するために使用できます。   \n",
    "\n",
    "**ここでは、テキストファイルをもとにMatrixTableに注釈をつける方法を示します。**"
   ]
  },
  {
   "cell_type": "markdown",
   "metadata": {},
   "source": [
    "使うテキストファイルには、サンプルID(sample ID)、populationとsuper-population、性別、および2つのシミュレートされた表現型（1つはバイナリ、1つは離散）が含まれています。"
   ]
  },
  {
   "cell_type": "markdown",
   "metadata": {},
   "source": [
    "このcsvファイルはHailの[import_table](https://hail.is/docs/0.2/methods/impex.html#hail.methods.import_table)で、インポートできます。  \n",
    "これにより、[Table](https://hail.is/docs/0.2/hail.Table.html#hail.Table)オブジェクトが生成されます。  \n",
    "\n",
    "データは先の手順でDownloadしている、data/1kg_annotations.txtを使います。  \n",
    "データの型は、impute=Trueを使い推定させています。  \n",
    "key_by('Sample')により、後ほどMatrixTableとの結合に使うキーを指定しています。\n",
    "\n",
    "このTableはPandasやRのdataframeのようなものですが、Sparkの恩恵を受けているのでスケーラブルなものです。"
   ]
  },
  {
   "cell_type": "code",
   "execution_count": null,
   "metadata": {},
   "outputs": [],
   "source": [
    "table = (hl.import_table('data/1kg_annotations.txt', impute=True)\n",
    "         .key_by('Sample'))"
   ]
  },
  {
   "cell_type": "markdown",
   "metadata": {},
   "source": [
    "これで読み込めましたが、一応、元のファイルの内容を確認してみます。"
   ]
  },
  {
   "cell_type": "code",
   "execution_count": null,
   "metadata": {},
   "outputs": [],
   "source": [
    "!head data/1kg_annotations.txt"
   ]
  },
  {
   "cell_type": "markdown",
   "metadata": {},
   "source": [
    "読み込んだテーブルがどのようになったか見てみましょう。  \n",
    "**table.describe()で概要を確認できます。**"
   ]
  },
  {
   "cell_type": "code",
   "execution_count": null,
   "metadata": {},
   "outputs": [],
   "source": [
    "table.describe()"
   ]
  },
  {
   "cell_type": "markdown",
   "metadata": {},
   "source": [
    "**MatrixTableのときと同じように、`show`を使うことでデータを確認できます。**"
   ]
  },
  {
   "cell_type": "code",
   "execution_count": null,
   "metadata": {},
   "outputs": [],
   "source": [
    "table.show(width=100)"
   ]
  },
  {
   "cell_type": "markdown",
   "metadata": {},
   "source": [
    "次に、このテーブルを使用してMatrixTableのcolumnフィールドにアノテーションを格納してみます。   \n",
    "まず、**既存のcolumnフィールドのスキーマを確認します。**"
   ]
  },
  {
   "cell_type": "code",
   "execution_count": null,
   "metadata": {},
   "outputs": [],
   "source": [
    "mt.col.describe()"
   ]
  },
  {
   "cell_type": "markdown",
   "metadata": {},
   "source": [
    "MatrixTableの機能である[annotate_cols](https://hail.is/docs/0.2/hail.MatrixTable.html#hail.MatrixTable.annotate_cols) メソッドを使用して、**MatrixTableにこのtableを結合します。**  \n",
    "  \n",
    "ここでは、mt.sにあるsample ID(HG00096など)を使い、tableの中を検索し、ヒットしたものをcolsフィールドにphenoという構造体で格納しています。"
   ]
  },
  {
   "cell_type": "code",
   "execution_count": null,
   "metadata": {},
   "outputs": [],
   "source": [
    "mt = mt.annotate_cols(pheno = table[mt.s])"
   ]
  },
  {
   "cell_type": "markdown",
   "metadata": {},
   "source": [
    "tableにあったPurpleHairなどの情報がMatrixTableでどのようになったか、確認してみましょう。　　"
   ]
  },
  {
   "cell_type": "code",
   "execution_count": null,
   "metadata": {},
   "outputs": [],
   "source": [
    "mt.col.describe()"
   ]
  },
  {
   "cell_type": "code",
   "execution_count": null,
   "metadata": {},
   "outputs": [],
   "source": [
    "mt.col.show()"
   ]
  },
  {
   "cell_type": "markdown",
   "metadata": {},
   "source": [
    "細かいですが、↑の表記(mt.col)は [HailのStructExpression] (https://hail.is/docs/0.2/hail.expr.StructExpression.html#structexpression) です。  \n",
    "続けてdescribeのほかselectなども利用可能ですが、MatrixTableでもTableでもなかったりします。  \n",
    "\n",
    "**その出力やオブジェクトが何かを判定するには次のように.show()などを付与せずに実行するとわかります。**"
   ]
  },
  {
   "cell_type": "code",
   "execution_count": null,
   "metadata": {},
   "outputs": [],
   "source": [
    "mt.col"
   ]
  },
  {
   "cell_type": "markdown",
   "metadata": {},
   "source": [
    "***\n",
    "## データの操作"
   ]
  },
  {
   "cell_type": "markdown",
   "metadata": {},
   "source": [
    "### Query functions and the Hail Expression Language\n",
    "\n",
    "Hailにはデータセットの統計情報を計算し取得するための便利な関数がいくつかあります。  \n",
    "これらの関数は引数として`Hail Expression`をとります。\n",
    "\n",
    "まず、**先ほど読み込んだtableの統計情報を取得してみましょう。**  \n",
    "[aggregate](https://hail.is/docs/0.2/hail.Table.html#hail.Table.aggregate)\n",
    "メソッドを使うことで、tableの行を集計できます。"
   ]
  },
  {
   "cell_type": "markdown",
   "metadata": {},
   "source": [
    "下のセルで、`counter`は、一意の各要素の出現回数をカウントする集計関数です。  \n",
    "これを使用して、カウントしたいフィールドを表す`Hail Expression`(ここでは、table.SuperPopulation)を渡すことにより、人口分布を集計することができます。\n",
    "\n",
    "1. table.aggregateで集計を指示\n",
    "2. 集計内容はcounter\n",
    "3. 集計対象はtable.SuperPopulation  \n",
    "という流れです"
   ]
  },
  {
   "cell_type": "markdown",
   "metadata": {},
   "source": [
    "*参考: table.SuperPopulationの中身* \n",
    "<img src=\"images/table-sp-show.png\" width=\"300\">"
   ]
  },
  {
   "cell_type": "code",
   "execution_count": null,
   "metadata": {},
   "outputs": [],
   "source": [
    "pprint(table.aggregate(hl.agg.counter(table.SuperPopulation)))"
   ]
  },
  {
   "cell_type": "markdown",
   "metadata": {},
   "source": [
    "#### その他の項目でも試行してみましょう\n",
    "\n",
    "- pprint(table.aggregate(hl.agg.counter(table.Population)))"
   ]
  },
  {
   "cell_type": "code",
   "execution_count": null,
   "metadata": {},
   "outputs": [],
   "source": [
    "pprint(table.aggregate(hl.agg.counter(table.Population)))"
   ]
  },
  {
   "cell_type": "markdown",
   "metadata": {},
   "source": [
    "- pprint(table.aggregate(hl.agg.counter(table.isFemale)))"
   ]
  },
  {
   "cell_type": "code",
   "execution_count": null,
   "metadata": {},
   "outputs": [],
   "source": [
    "pprint(table.aggregate(hl.agg.counter(table.isFemale)))"
   ]
  },
  {
   "cell_type": "markdown",
   "metadata": {},
   "source": [
    "- pprint(table.aggregate(hl.agg.counter(table.PurpleHair)))"
   ]
  },
  {
   "cell_type": "code",
   "execution_count": null,
   "metadata": {},
   "outputs": [],
   "source": [
    "pprint(table.aggregate(hl.agg.counter(table.PurpleHair)))"
   ]
  },
  {
   "cell_type": "markdown",
   "metadata": {},
   "source": [
    "- pprint(table.aggregate(hl.agg.counter(table.CaffeineConsumption)))"
   ]
  },
  {
   "cell_type": "code",
   "execution_count": null,
   "metadata": {},
   "outputs": [],
   "source": [
    "pprint(table.aggregate(hl.agg.counter(table.CaffeineConsumption)))"
   ]
  },
  {
   "cell_type": "markdown",
   "metadata": {},
   "source": [
    "#### それぞれの統計情報を取得"
   ]
  },
  {
   "cell_type": "markdown",
   "metadata": {},
   "source": [
    "`stats` を使うと統計情報を取得するように集計内容が変わります。  \n",
    "たとえばCaffeineConsumptionの分布を見るには、\n",
    "\n",
    "1. table.aggregateで集計を指示\n",
    "2. 集計内容はstats\n",
    "3. 集計対象はtable.CaffeineConsumption  \n",
    "という流れです"
   ]
  },
  {
   "cell_type": "code",
   "execution_count": null,
   "metadata": {},
   "outputs": [],
   "source": [
    "pprint(table.aggregate(hl.agg.stats(table.CaffeineConsumption)))"
   ]
  },
  {
   "cell_type": "markdown",
   "metadata": {},
   "source": [
    "良い感じですね。  \n",
    "\n",
    "ですが実は、これらは先のVCFファイル由来のデータセット内にあるサンプルをきちんと表せているとは限りません。  \n",
    "理由は次のとおりです。"
   ]
  },
  {
   "cell_type": "markdown",
   "metadata": {},
   "source": [
    "**tableに.count()を付与することで、tableに登録されているデータの件数が確認できます**"
   ]
  },
  {
   "cell_type": "code",
   "execution_count": null,
   "metadata": {},
   "outputs": [],
   "source": [
    "table.count()"
   ]
  },
  {
   "cell_type": "markdown",
   "metadata": {},
   "source": [
    "**mtに.count_cols()を付与することで、mtのcolsフィールドに登録されているサンプルのデータ件数を確認できます。**  \n",
    "または、mt.cols().count()でも同じことができます。"
   ]
  },
  {
   "cell_type": "code",
   "execution_count": null,
   "metadata": {},
   "outputs": [],
   "source": [
    "mt.count_cols()"
   ]
  },
  {
   "cell_type": "markdown",
   "metadata": {},
   "source": [
    "tableに比べてmtは、そもそもダウンサンプリングしていたものなので1000人ゲノムのデータにしては少ないです。  \n",
    "そのため、見るべきはMatrixTable mtに付与したアノテーションの方でした。  \n",
    "\n",
    "この場合は  \n",
    "**[aggregate_cols](https://hail.is/docs/0.2/hail.MatrixTable.html#hail.MatrixTable.aggregate_cols) \n",
    "を使うことで、MatrixTableにあるサンプルに対するメトリクスを取得することができます。**\n",
    "\n",
    "1. mt.aggregate_colsで、MatrixTableのcolumnフィールドより集計することを指示\n",
    "2. 集計内容はcounter\n",
    "3. 集計対象はmt.pheno.SuperPopulation\n",
    "という流れです"
   ]
  },
  {
   "cell_type": "code",
   "execution_count": null,
   "metadata": {},
   "outputs": [],
   "source": [
    "mt.aggregate_cols(hl.agg.counter(mt.pheno.SuperPopulation))"
   ]
  },
  {
   "cell_type": "markdown",
   "metadata": {},
   "source": [
    "**同様に、CaffeineConsumptionの統計値を取得してみます。**\n",
    "\n",
    "*参考: mt.CaffeineConsumptionの中身*   \n",
    "<img src=\"images/mt-cc-show.png\" width=\"300\">"
   ]
  },
  {
   "cell_type": "code",
   "execution_count": null,
   "metadata": {},
   "outputs": [],
   "source": [
    "pprint(mt.aggregate_cols(hl.agg.stats(mt.pheno.CaffeineConsumption)))"
   ]
  },
  {
   "cell_type": "markdown",
   "metadata": {},
   "source": [
    "#### **その他のツールと何がちがうの？**\n",
    "これらの機能は世間一般でそれほど新しいものではありません。  \n",
    "そもそもPandasやRのDataFrame、あるいはawkなどのUnixツールで実施してきたことです。  \n",
    "しかしHailでは、\n",
    "- このような(平易な)インターフェースや言語を用いて、\n",
    "- すべてのvariantのセットなどの遥かに大きなデータを分析すること  \n",
    "ができるのです。  \n",
    "\n",
    "\n",
    "#### **次に、12通りの一位なSNPをそれぞれカウントしてみます。**  \n",
    "\n",
    "それには各バリアントのalternate alleleを取得し、それぞれのRef/Altペアをカウントしていく必要があります。  \n",
    "これは、Hailの`counter`機能で実現できます。"
   ]
  },
  {
   "cell_type": "markdown",
   "metadata": {},
   "source": [
    "先の例と同様に、今度はaggregate_rowsを使うことでバリアントの情報が格納されているrowsフィールドの集計ができます。  \n",
    "\n",
    "1. mt.aggregate_rowsで、MatrixTableのrowsフィールドより集計することを指示\n",
    "2. 集計内容はcounter\n",
    "3. 集計対象はhl.Struct(ref=mt.alleles[0], alt=mt.allales[1])です。  \n",
    "こうすることで出現したRef/Altをカウントしていくことができます。  \n"
   ]
  },
  {
   "cell_type": "markdown",
   "metadata": {},
   "source": [
    "mt.alleles[0]やmt.alleles[1]は下の画像のとおり、Reference/Alternative それぞれのアレルを取り出します。\n",
    "\n",
    "\n",
    "<img src=\"images/ref-alt-alleles.png\" width=\"500\">"
   ]
  },
  {
   "cell_type": "markdown",
   "metadata": {},
   "source": [
    "では、**snpのカウントを実行してみます。**  \n",
    "結果は変数snp_countsに代入し、直後に表示させています。  "
   ]
  },
  {
   "cell_type": "code",
   "execution_count": null,
   "metadata": {},
   "outputs": [],
   "source": [
    "snp_counts = mt.aggregate_rows(hl.agg.counter(hl.Struct(ref=mt.alleles[0], alt=mt.alleles[1])))\n",
    "pprint(snp_counts)\n"
   ]
  },
  {
   "cell_type": "markdown",
   "metadata": {},
   "source": [
    "PythonのCounterクラスを使用して、降順で一覧表示してみます。  \n",
    "collectionsのCounterは、任意のリストにある各要素の出現頻度を扱うのに便利な機能のひとつです。  \n",
    "most_common()で頻度が多い順にリストすることができます。  "
   ]
  },
  {
   "cell_type": "code",
   "execution_count": null,
   "metadata": {},
   "outputs": [],
   "source": [
    "from collections import Counter\n",
    "counts = Counter(snp_counts)\n",
    "counts.most_common()"
   ]
  },
  {
   "cell_type": "markdown",
   "metadata": {},
   "source": [
    "この小さなデータセットからでも、生物学的なものを実際に発見できてますね！  \n",
    "これらの頻度はペアになっていることがわかります。 C / TとG / Aは実際には同じ突然変異であり、反対側の鎖から見ただけです。 同様に、T / AとA / Tは反対の鎖の同じ突然変異です。 C / TとA / TのSNPの頻度には30倍の違いがあります。 どうして？\n"
   ]
  },
  {
   "cell_type": "markdown",
   "metadata": {},
   "source": [
    "同じPython、R、およびUnixツールでもこの作業を行うことができますが、データの大きさの壁にぶつかり始めています。  \n",
    "最新の[gnomAD release](https://gnomad.broadinstitute.org/) は、約2億5000万のバリアントを公開しています。   \n",
    "そして、それはもはや単一のコンピュータのメモリに収まりません。  \n",
    "\n",
    "遺伝子型はどうですか？   \n",
    "Hailは、データセット内のすべての遺伝子型のコレクションを検索できます。これは、小さなデータセットでも大きくなっています。 284のサンプルと10,000のバリアントにより、1,000万の固有の遺伝子型が生成されます。 gnomADデータセットには、約5兆の固有の遺伝子型があります。  \n",
    "  \n",
    "*Apache Spark上で動作するHailを用いることで、遺伝統計研究を1台のPCやサーバーの限界から解き放つことができます。*"
   ]
  },
  {
   "cell_type": "markdown",
   "metadata": {},
   "source": [
    "#### **DPのヒストグラムをプロットしてみます**\n",
    "hailにはplot関数があり、次のようにMatrixTableにあるDPフィールドを直接渡すことができます。  \n",
    "引数 rangeとbinsが設定されていない場合、この関数はフィールドの最小値と最大値に基づいて範囲を計算し、binはデフォルトの50を使用します。\n",
    "\n",
    "range外のものは、'Outliters Above'や'Outliters Below'として扱われます。"
   ]
  },
  {
   "cell_type": "markdown",
   "metadata": {},
   "source": [
    "*参考: mt.DPの中身*  \n",
    "<img src=\"images/mt-dp-show.png\" width=\"500\">"
   ]
  },
  {
   "cell_type": "code",
   "execution_count": null,
   "metadata": {},
   "outputs": [],
   "source": [
    "p = hl.plot.histogram(mt.DP, range=(0,30), bins=30, title='DP Histogram', legend='DP')\n",
    "show(p)"
   ]
  },
  {
   "cell_type": "markdown",
   "metadata": {},
   "source": [
    "***\n",
    "## Quality Control\n",
    "\n",
    "QCは時間を費やす必要がある場所です。反復する必要があるプロセスですが、手順は毎度異なります。QCには「これをやればOK」というソリューションは無いとも言えます。Broadでも新しいデータを得るたびに、新しい方法を見つけています。  \n",
    "オープンサイエンスのマインドにのっとりQCについて議論を深めることで、ベストプラクティスを確立していくことができます。"
   ]
  },
  {
   "cell_type": "markdown",
   "metadata": {},
   "source": [
    "### Sample QC\n",
    "QCの基礎はデータセットの詳細を理解することにあります。  \n",
    "Hailはこれを、[sample_qc](https://hail.is/docs/0.2/methods/genetics.html#hail.methods.sample_qc) 機能によってより簡単に実行できるようにしています。  \n",
    "これは、データセットの理解に有用なメトリクスを生成し、それらをcolumn フィールドに格納する機能です。"
   ]
  },
  {
   "cell_type": "markdown",
   "metadata": {},
   "source": [
    "まず、**現時点でのcolumnフィールドの詳細を確認しておきます。**  \n",
    "この時点ではQCに関する項目はありません。"
   ]
  },
  {
   "cell_type": "code",
   "execution_count": null,
   "metadata": {},
   "outputs": [],
   "source": [
    "mt.col.describe()"
   ]
  },
  {
   "cell_type": "markdown",
   "metadata": {},
   "source": [
    "次に、**sample_qcを実行します。**  \n",
    "これによりdp_statsなどの統計値が追加されます。"
   ]
  },
  {
   "cell_type": "code",
   "execution_count": null,
   "metadata": {},
   "outputs": [],
   "source": [
    "mt = hl.sample_qc(mt)"
   ]
  },
  {
   "cell_type": "markdown",
   "metadata": {},
   "source": [
    "確認してみましょう。\n",
    "sample_qcが追加されていることがわかります。"
   ]
  },
  {
   "cell_type": "code",
   "execution_count": null,
   "metadata": {},
   "outputs": [],
   "source": [
    "mt.col.describe()"
   ]
  },
  {
   "cell_type": "markdown",
   "metadata": {},
   "source": [
    "**sample_qcで得られた値をグラフにプロットしてみましょう。**  \n",
    "先ほど使ったhail (hl) のplot.histogram機能でヒストグラムを描画します。  \n",
    "ここではsample.qc.call_rateを対象にし、0.88から1の範囲をプロットしています。  "
   ]
  },
  {
   "cell_type": "code",
   "execution_count": null,
   "metadata": {},
   "outputs": [],
   "source": [
    "p = hl.plot.histogram(mt.sample_qc.call_rate, range=(.88,1), legend='Call Rate')\n",
    "show(p)"
   ]
  },
  {
   "cell_type": "markdown",
   "metadata": {},
   "source": [
    "**同様に、gq_stats.meanを10-70の範囲でプロットします。**"
   ]
  },
  {
   "cell_type": "markdown",
   "metadata": {},
   "source": [
    "*参考: mt.GQ, mt.sample_qc.gq_stats.meanの中身*  \n",
    "<img src=\"images/mt-gq-show.png\" width=\"400\">  <img src=\"images/mt-sample-qc-gq-stats-mean.png\" width=\"320\">"
   ]
  },
  {
   "cell_type": "code",
   "execution_count": null,
   "metadata": {},
   "outputs": [],
   "source": [
    "p = hl.plot.histogram(mt.sample_qc.gq_stats.mean, range=(10,70), legend='Mean Sample GQ')\n",
    "show(p)\n",
    "# GQ: Quality of the assigned genotype. "
   ]
  },
  {
   "cell_type": "markdown",
   "metadata": {},
   "source": [
    "多くの場合、これらのメトリックには相関があります。"
   ]
  },
  {
   "cell_type": "markdown",
   "metadata": {},
   "source": [
    "**hl.plot.scatterでdp_stats.meanとcall_rateの散布図を描いてみます。**  "
   ]
  },
  {
   "cell_type": "code",
   "execution_count": null,
   "metadata": {},
   "outputs": [],
   "source": [
    "p = hl.plot.scatter(mt.sample_qc.dp_stats.mean, mt.sample_qc.call_rate, xlabel='Mean DP', ylabel='Call Rate')\n",
    "show(p)"
   ]
  },
  {
   "cell_type": "markdown",
   "metadata": {},
   "source": [
    "データセットから外れ値を削除すると、通常、関連解析の結果が向上します。 任意のカットオフを作成し、それらを使用してフィルタリングできます。"
   ]
  },
  {
   "cell_type": "markdown",
   "metadata": {},
   "source": [
    "ここでは**dp_stats.meanが4以上でかつ、call_rateが0.97以上であるものにフィルターしています。**  \n",
    "また、どれくらいフィルターされているかを表示しています。"
   ]
  },
  {
   "cell_type": "code",
   "execution_count": null,
   "metadata": {},
   "outputs": [],
   "source": [
    "mt = mt.filter_cols((mt.sample_qc.dp_stats.mean >= 4) & (mt.sample_qc.call_rate >= 0.97))\n",
    "print('After filter, %d/284 samples remain.' % mt.count_cols())"
   ]
  },
  {
   "cell_type": "markdown",
   "metadata": {},
   "source": [
    "**先ほど実行した3つのグラフを再描画してみましょう。**"
   ]
  },
  {
   "cell_type": "code",
   "execution_count": null,
   "metadata": {},
   "outputs": [],
   "source": [
    "p = hl.plot.histogram(mt.sample_qc.call_rate, range=(.88,1), legend='Call Rate')\n",
    "show(p)"
   ]
  },
  {
   "cell_type": "code",
   "execution_count": null,
   "metadata": {},
   "outputs": [],
   "source": [
    "p = hl.plot.histogram(mt.sample_qc.gq_stats.mean, range=(10,70), legend='Mean Sample GQ')\n",
    "show(p)"
   ]
  },
  {
   "cell_type": "code",
   "execution_count": null,
   "metadata": {},
   "outputs": [],
   "source": [
    "p = hl.plot.scatter(mt.sample_qc.dp_stats.mean, mt.sample_qc.call_rate, xlabel='Mean DP', ylabel='Call Rate')\n",
    "show(p)"
   ]
  },
  {
   "cell_type": "markdown",
   "metadata": {},
   "source": [
    "**次はGenotypeのQCです。**  \n",
    "ここからしばらくは、初学者向けではなく初中級者向けの内容なので、初学者の方は分からなくても大丈夫です。\n",
    "\n",
    "本来あるべき場所にないところを読み取っている遺伝子型を除外することをおすすめします:    \n",
    "10%を超えるalternate読み取りを伴う、REF alleleのホモ接合型,  \n",
    "10%を超えるreference読み取りを伴う、ALT alleleのホモ接合型,  \n",
    "または、1:1に近いref/altのバランスにない、ヘテロ接合型,  \n",
    "はエラーである可能性があります。  \n",
    "\n",
    "\n",
    "(統計的に、1KGのような低深度のデータセットではこのメトリックを使用して悪い遺伝子型を検出することは困難です。)\n"
   ]
  },
  {
   "cell_type": "markdown",
   "metadata": {},
   "source": [
    "以下、メモ\n",
    "```\n",
    "# AD: allele depth. フィルターなし状態でのカバレッジ。REF, ALTと２つの値があり、AD[1]はALTの値。\n",
    "# hl.sum(mt.AD)は、REF,ALTを足した値。\n",
    "# filter_condition_abの結果は、True or NA or False\n",
    "# is_hom_ref: True if the call has no alternate alleles.\n",
    "# is_het: True if the call contains two different alleles.\n",
    "# is_hom_var: True if the call contains identical alternate alleles.\n",
    "# \n",
    "# abが小さい領域はrefであるはず。大きい領域はaltであるはず。hetはその間。それ以外がエラーと仮定している。\n",
    "#\n",
    "# fraction_filtered = mt.aggregate_entries(hl.agg.fraction(~filter_condition_ab))\n",
    "# ここではTrueだった箇所の割合を算出。0.03596...\n",
    "# \n",
    "# mt = mt.filter_entries(filter_condition_ab)\n",
    "# ここで先のfilterを適用。entriesをカウントすると、2,719,750 -> 97,808になっている。\n",
    "```"
   ]
  },
  {
   "cell_type": "markdown",
   "metadata": {},
   "source": [
    "**フィルターを実行する前に、mt.entriesを表示しておきます。**  \n",
    "また、あとで比較に使いたいので  \n",
    "**mt.filter_rows(mt.locus == hl.Locus.parse('1:9780836')).entries().select(\"GT\").show()  \n",
    "を実行しておきます。**"
   ]
  },
  {
   "cell_type": "code",
   "execution_count": null,
   "metadata": {},
   "outputs": [],
   "source": [
    "mt.entries().show()"
   ]
  },
  {
   "cell_type": "code",
   "execution_count": null,
   "metadata": {},
   "outputs": [],
   "source": [
    "mt.filter_rows(mt.locus == hl.Locus.parse('1:9780836')).entries().select(\"GT\").show()"
   ]
  },
  {
   "cell_type": "code",
   "execution_count": null,
   "metadata": {},
   "outputs": [],
   "source": [
    "ab = mt.AD[1] / hl.sum(mt.AD)\n",
    "\n",
    "filter_condition_ab = ((mt.GT.is_hom_ref() & (ab <= 0.1)) |\n",
    "                        (mt.GT.is_het() & (ab >= 0.25) & (ab <= 0.75)) |\n",
    "                        (mt.GT.is_hom_var() & (ab >= 0.9)))\n",
    "\n",
    "fraction_filtered = mt.aggregate_entries(hl.agg.fraction(~filter_condition_ab))\n",
    "print(f'Filtering {fraction_filtered * 100:.2f}% entries out of downstream analysis.')\n",
    "mt = mt.filter_entries(filter_condition_ab)"
   ]
  },
  {
   "cell_type": "markdown",
   "metadata": {},
   "source": [
    "**上記はちょっと複雑そうに見えますので、少し細かくみてみましょう。**"
   ]
  },
  {
   "cell_type": "markdown",
   "metadata": {},
   "source": [
    "- ab = md.AD[1] / hl.sum(mt.AD) の行   \n",
    "\n",
    "<img src=\"images/filter-1.png\" width=\"600\">\n",
    "\n",
    "**mt.AD[1]は、下記のmt.AD.show()で表示されるADのalt側の数値です。**  \n",
    "hl.sum(mt.AD)は、ref/altの合計値です。\n"
   ]
  },
  {
   "cell_type": "code",
   "execution_count": null,
   "metadata": {},
   "outputs": [],
   "source": [
    "mt.AD.show(3)"
   ]
  },
  {
   "cell_type": "code",
   "execution_count": null,
   "metadata": {},
   "outputs": [],
   "source": [
    "mt.AD[1].show(3)"
   ]
  },
  {
   "cell_type": "code",
   "execution_count": null,
   "metadata": {},
   "outputs": [],
   "source": [
    "hl.sum(mt.AD).show()"
   ]
  },
  {
   "cell_type": "markdown",
   "metadata": {},
   "source": [
    "- filter_condition_abについて   \n",
    "\n",
    "<img src=\"images/filter-2.png\" width=\"600\">\n",
    "\n",
    "filter_condition_abの結果は、True or NA or False で返されます。  \n",
    "&は論理積(AND), | \"パイプ\"は論理和(OR)です。  \n",
    "\n",
    "mt.GTに続く命令は、以下のような条件でTrue or Falseを返すものです。  \n",
    "```\n",
    "is_hom_ref: True if the call has no alternate alleles.\n",
    "is_het: True if the call contains two different alleles.\n",
    "is_hom_var: True if the call contains identical alternate alleles.\n",
    "```\n",
    "これに、abの値によるフィルターを組み合わせています。\n",
    "\n"
   ]
  },
  {
   "cell_type": "markdown",
   "metadata": {},
   "source": [
    "**filter_condition_abの内容を見てみましょう**"
   ]
  },
  {
   "cell_type": "code",
   "execution_count": null,
   "metadata": {},
   "outputs": [],
   "source": [
    "filter_condition_ab.show(30,n_cols=100)"
   ]
  },
  {
   "cell_type": "markdown",
   "metadata": {},
   "source": [
    "*1:9780836 は True, NA, Falseが都合よく混ざっているので確認に良さそうです。*   \n",
    "あとで確認に使ってみます。"
   ]
  },
  {
   "cell_type": "markdown",
   "metadata": {},
   "source": [
    "- fraction_filtered = mt.aggregate_entries(hl.agg.fraction(~filter_condition_ab))  について\n",
    "\n",
    "<img src=\"images/filter-3.png\" width=\"600\">\n",
    "\n",
    "ここではFalseだった箇所の割合を算出して表示していました。  \n"
   ]
  },
  {
   "cell_type": "markdown",
   "metadata": {},
   "source": [
    "- mt = mt.filter_entries(filter_condition_ab)  \n",
    "\n",
    "<img src=\"images/filter-4.png\" width=\"600\">\n",
    "\n",
    "ここではmtのentriesフィールドにfilter_condition_abをフィルターとして適用しています。"
   ]
  },
  {
   "cell_type": "markdown",
   "metadata": {},
   "source": [
    "**どのようにフィルターされたのか、1:9780836を探して見てみましょう。**\n",
    "\n",
    "entry フィールドに条件をつけて、1:9780836のみを表示してみます。"
   ]
  },
  {
   "cell_type": "markdown",
   "metadata": {},
   "source": [
    "**染色体上の位置を定義するのは次のような操作になります。**"
   ]
  },
  {
   "cell_type": "code",
   "execution_count": null,
   "metadata": {},
   "outputs": [],
   "source": [
    "l1 = hl.Locus.parse('1:9780836')"
   ]
  },
  {
   "cell_type": "code",
   "execution_count": null,
   "metadata": {},
   "outputs": [],
   "source": [
    "l1"
   ]
  },
  {
   "cell_type": "markdown",
   "metadata": {},
   "source": [
    "**これを使ってentryフィールドにフィルターをかけてみます。**  "
   ]
  },
  {
   "cell_type": "markdown",
   "metadata": {},
   "source": [
    "(ちょっと出力が多すぎるのでselectを使って結果をGTのみに限定します。)"
   ]
  },
  {
   "cell_type": "code",
   "execution_count": null,
   "metadata": {},
   "outputs": [],
   "source": [
    "mt.filter_rows(mt.locus == l1).entries().select(\"GT\").show(5)"
   ]
  },
  {
   "cell_type": "markdown",
   "metadata": {},
   "source": [
    "ちなみに、l1のところの表記はこのようにしてもOKです。  "
   ]
  },
  {
   "cell_type": "code",
   "execution_count": null,
   "metadata": {},
   "outputs": [],
   "source": [
    "mt.filter_rows(mt.locus == hl.Locus.parse('1:9780836')).entries().select(\"GT\").show()"
   ]
  },
  {
   "cell_type": "markdown",
   "metadata": {},
   "source": [
    "1:9780836のフィルターは↓のとおりでした。  \n",
    "上のセルの結果を見るとHG00096の次がHG00254となっており、 NAやFalseとなっていたサンプルがフィルターされていることが確認できました。  \n",
    "\n",
    "　　　　　　<img src=\"images/filter-c1.png\" width=\"1400\">\n",
    "<img src=\"images/filter-c2.png\" width=\"1800\">\n",
    "\n"
   ]
  },
  {
   "cell_type": "markdown",
   "metadata": {},
   "source": [
    "### Variant QC\n",
    "**[variant_qc](https://hail.is/docs/0.2/methods/genetics.html#hail.methods.variant_qc) も同様に、様々な統計情報を計算し格納します。**  \n",
    "それらもプロットしたりフィルターするのに使用できます。"
   ]
  },
  {
   "cell_type": "code",
   "execution_count": null,
   "metadata": {},
   "outputs": [],
   "source": [
    "mt = hl.variant_qc(mt)"
   ]
  },
  {
   "cell_type": "markdown",
   "metadata": {},
   "source": [
    "rowsフィールドに格納されます。**確認してみましょう。**"
   ]
  },
  {
   "cell_type": "code",
   "execution_count": null,
   "metadata": {},
   "outputs": [],
   "source": [
    "mt.row.describe()"
   ]
  },
  {
   "cell_type": "code",
   "execution_count": null,
   "metadata": {},
   "outputs": [],
   "source": [
    "mt.rows().variant_qc.show()"
   ]
  },
  {
   "cell_type": "markdown",
   "metadata": {},
   "source": [
    "variant_qcが追加されたのが確認できたと思います。  \n",
    "\n",
    "今回のデータセットについてはフィルタリングをする必要はありませんが、通常ほとんどのデータセットでは慎重なQCが必要です。  \n",
    "[filter_rows](https://hail.is/docs/0.2/hail.MatrixTable.html#hail.MatrixTable.filter_rows) が役にたつでしょう。"
   ]
  },
  {
   "cell_type": "markdown",
   "metadata": {},
   "source": [
    "***\n",
    "## Let's do a GWAS!\n",
    "\n",
    "**まず、次のようなバリアントに絞り込みます:**  \n",
    "\n",
    " - common( cutoff 1%)\n",
    " - シーケンスエラーを示唆するほどハーディーワインベルク平衡[Hardy-Weinberg equilibrium](https://en.wikipedia.org/wiki/Hardy%E2%80%93Weinberg_principle) から遠くない  \n"
   ]
  },
  {
   "cell_type": "markdown",
   "metadata": {},
   "source": [
    "まず、AF[1] (allele frequency for each ALT allele) が0.01以上であるようにフィルターします。"
   ]
  },
  {
   "cell_type": "code",
   "execution_count": null,
   "metadata": {},
   "outputs": [],
   "source": [
    "mt = mt.filter_rows(mt.variant_qc.AF[1] > 0.01)"
   ]
  },
  {
   "cell_type": "markdown",
   "metadata": {},
   "source": [
    "次に、p_value_hwe (float64, p-value from two-sided test of Hardy-Weinberg equilibrium.)が 10^-6 以上であるものにフィルターします。"
   ]
  },
  {
   "cell_type": "code",
   "execution_count": null,
   "metadata": {},
   "outputs": [],
   "source": [
    "mt = mt.filter_rows(mt.variant_qc.p_value_hwe > 1e-6)"
   ]
  },
  {
   "cell_type": "markdown",
   "metadata": {},
   "source": [
    "**現時点でのSample数とVariant数を確認します。**"
   ]
  },
  {
   "cell_type": "code",
   "execution_count": null,
   "metadata": {},
   "outputs": [],
   "source": [
    "print('Samples: %d  Variants: %d' % (mt.count_cols(), mt.count_rows()))"
   ]
  },
  {
   "cell_type": "markdown",
   "metadata": {},
   "source": [
    "15%カットされています(最初は10000以上ありました)。ダウンサンプルする段階ですでに通常のデータセットよりcommon variantが含まれるようにしているので、この結果は一般的ではないかもしれません。\n",
    "\n",
    "Hailでの関連解析では、columnフィールドのサンプルの表現型や共変量を使います。  \n",
    "すでに関心のある表現型をデータセットにいれているので、それを使います。  \n"
   ]
  },
  {
   "cell_type": "markdown",
   "metadata": {},
   "source": [
    "以下では**linear_regression_rows[https://hail.is/docs/0.2/methods/stats.html#hail.methods.linear_regression_rows] を使い、  \n",
    "CaffeineConsumptionを使ったテストを行っています。**\n",
    "\n",
    "GT.n_alt_alleles: Alternate alleleの値。0,1,2 or NA   \n",
    "結果にはp_valueなどが含まれていきます。"
   ]
  },
  {
   "cell_type": "code",
   "execution_count": null,
   "metadata": {},
   "outputs": [],
   "source": [
    "gwas = hl.linear_regression_rows(y=mt.pheno.CaffeineConsumption, \n",
    "                                 x=mt.GT.n_alt_alleles(), \n",
    "                                 covariates=[1.0])\n",
    "gwas.row.describe()\n"
   ]
  },
  {
   "cell_type": "markdown",
   "metadata": {},
   "source": [
    "線形回帰により、beta、標準誤差(standard error )、t統計量、およびp値の新しい行フィールドが追加されていることがわかります。\n",
    "\n",
    "Hailでは可視化を簡単に実行できます。  \n",
    "**[Manhattan plot](https://en.wikipedia.org/wiki/Manhattan_plot) をつくってみましょう！**"
   ]
  },
  {
   "cell_type": "code",
   "execution_count": null,
   "metadata": {},
   "outputs": [],
   "source": [
    "p = hl.plot.manhattan(gwas.p_value)\n",
    "show(p)"
   ]
  },
  {
   "cell_type": "markdown",
   "metadata": {},
   "source": [
    "ちょっとよくわからないのが出てきましたね...  \n",
    "\n",
    "**[Q-Q (quantile-quantile) plot](https://en.wikipedia.org/wiki/Q–Q_plot) を使ってgwasが適切だったのか確認してみましょう。**"
   ]
  },
  {
   "cell_type": "code",
   "execution_count": null,
   "metadata": {},
   "outputs": [],
   "source": [
    "p = hl.plot.qq(gwas.p_value)\n",
    "show(p)"
   ]
  },
  {
   "cell_type": "markdown",
   "metadata": {},
   "source": [
    "### 交絡\n",
    "\n",
    "観測されたp値は、すぐに期待値から外れています。私たちのデータセット内のすべてのSNPは、カフェインの消費に因果関係があるか（ありそうもない）、または交絡因子があります。\n",
    "\n",
    "実は、サンプルの祖先を使用してこの表現型をシミュレートしていました。  \n",
    "これは、表現型の分布の層別化につながります。  \n",
    "解決策は、回帰の共変量として祖先を含めることです。  \n",
    "\n",
    "[linear_regression_rows]（https://hail.is/docs/0.2/methods/stats.html#hail.methods.linear_regression_rows） 関数は、共変量として列フィールドを取ることもできます。  \n",
    "報告された祖先でサンプルにすでに注釈を付けましたが、人為的ミスがあるかもしれないのでこのラベルを懐疑的にとらえてみます。  \n",
    "ゲノムにはその問題はありません！  \n",
    "報告された祖先を使用する代わりに、計算された主成分をモデルに含めることにより、遺伝的祖先を導入します。  \n",
    "\n",
    "[pca]（https://hail.is/docs/0.2/methods/stats.html#hail.methods.pca） 関数は、固有値をリストとして生成し、サンプルのPCをテーブルに出力します。  \n",
    "また、オプションでバリアントの負荷値を生成することもできます。  \n",
    "[hwe_normalized_pca]（https://hail.is/docs/0.2/methods/genetics.html#hail.methods.hwe_normalized_pca） 関数は、PCAにHWEで正規化された遺伝子型を使用して同じことを行います。 \n",
    "\n",
    "**hwe_normalized_pcaを使用してサンプルのPCを取得します**"
   ]
  },
  {
   "cell_type": "markdown",
   "metadata": {},
   "source": [
    "#### hwe_normalized_pca\n",
    "examples: \n",
    "```\n",
    "eigenvalues, scores, loadings = hl.hwe_normalized_pca(dataset.GT, k=5)\n",
    "```\n",
    "    "
   ]
  },
  {
   "cell_type": "code",
   "execution_count": null,
   "metadata": {},
   "outputs": [],
   "source": [
    "eigenvalues, pcs, _ = hl.hwe_normalized_pca(mt.GT)"
   ]
  },
  {
   "cell_type": "markdown",
   "metadata": {},
   "source": [
    "固有値を見てみます。"
   ]
  },
  {
   "cell_type": "code",
   "execution_count": null,
   "metadata": {},
   "outputs": [],
   "source": [
    "pprint(eigenvalues)"
   ]
  },
  {
   "cell_type": "markdown",
   "metadata": {},
   "source": [
    "主成分スコアを見てみます。"
   ]
  },
  {
   "cell_type": "code",
   "execution_count": null,
   "metadata": {},
   "outputs": [],
   "source": [
    "pcs.show(5, width=100)"
   ]
  },
  {
   "cell_type": "markdown",
   "metadata": {},
   "source": [
    "サンプルごとに主成分が得られたので、それらをプロットすることができます。   \n",
    "人類の歴史は、遺伝子データセットに強い影響を及ぼします。   \n",
    "たった50MBのシーケンスデータセットを使用しても、主要な人口集団を回復できます。 "
   ]
  },
  {
   "cell_type": "markdown",
   "metadata": {},
   "source": [
    "**得られた値をMatrixTableへ追加します。**"
   ]
  },
  {
   "cell_type": "code",
   "execution_count": null,
   "metadata": {},
   "outputs": [],
   "source": [
    "mt = mt.annotate_cols(scores = pcs[mt.s].scores)"
   ]
  },
  {
   "cell_type": "markdown",
   "metadata": {},
   "source": [
    "**確認してみます。**右のほうにスクロールすると、scoresがあると思います。"
   ]
  },
  {
   "cell_type": "code",
   "execution_count": null,
   "metadata": {},
   "outputs": [],
   "source": [
    "mt.cols().show(3)"
   ]
  },
  {
   "cell_type": "markdown",
   "metadata": {},
   "source": [
    "**主成分スコアをプロットしてみます。**  \n",
    "ラベルにはannotationのテキストファイルにあったもの由来の、SuperPopulationを使用しています。"
   ]
  },
  {
   "cell_type": "code",
   "execution_count": null,
   "metadata": {},
   "outputs": [],
   "source": [
    "p = hl.plot.scatter(mt.scores[0], \n",
    "                    mt.scores[1],\n",
    "                    label=mt.pheno.SuperPopulation,\n",
    "                    title='PCA', xlabel='PC1', ylabel='PC2')\n",
    "show(p)"
   ]
  },
  {
   "cell_type": "markdown",
   "metadata": {},
   "source": [
    "線形回帰に戻りましょう。  \n",
    "**共変量に性別、主成分 PC1, PC2, PC3を使い、線形回帰をやり直します**"
   ]
  },
  {
   "cell_type": "code",
   "execution_count": null,
   "metadata": {},
   "outputs": [],
   "source": [
    "gwas = hl.linear_regression_rows(\n",
    "    y=mt.pheno.CaffeineConsumption, \n",
    "    x=mt.GT.n_alt_alleles(),\n",
    "    covariates=[1.0, mt.pheno.isFemale, mt.scores[0], mt.scores[1], mt.scores[2]])"
   ]
  },
  {
   "cell_type": "markdown",
   "metadata": {},
   "source": [
    "**まず、Q-Q plotをつくります。**"
   ]
  },
  {
   "cell_type": "code",
   "execution_count": null,
   "metadata": {},
   "outputs": [],
   "source": [
    "p = hl.plot.qq(gwas.p_value)\n",
    "show(p)"
   ]
  },
  {
   "cell_type": "markdown",
   "metadata": {},
   "source": [
    "いいですね！  \n",
    "この形状は、よくコントロールされたものによると思います。  \n",
    "**マンハッタンプロットを描いてみましょう。**"
   ]
  },
  {
   "cell_type": "code",
   "execution_count": null,
   "metadata": {},
   "outputs": [],
   "source": [
    "p = hl.plot.manhattan(gwas.p_value)\n",
    "show(p)"
   ]
  },
  {
   "cell_type": "markdown",
   "metadata": {},
   "source": [
    "私たちはcaffeine consumption locusを見つけました！  \n",
    "\n",
    "(原文のまま:笑)\n",
    "Now simply apply **Hail's Nature paper function** to publish the result.   \n",
    "Just kidding, that function won't land until Hail 1.0!"
   ]
  },
  {
   "cell_type": "markdown",
   "metadata": {},
   "source": [
    "***\n",
    "## Rare variant analysis\n",
    "\n",
    "ここでは、Hailのexpression languageを使用して、行フィールドと列フィールドの任意のプロパティでグループ化およびカウントする方法を示します。   \n",
    "Hailは、シーケンスカーネルアソシエーションテスト（SKAT）も実装しています。 \n",
    "\n",
    "https://hail.is/docs/0.2/methods/genetics.html#hail.methods.skat\n"
   ]
  },
  {
   "cell_type": "code",
   "execution_count": null,
   "metadata": {},
   "outputs": [],
   "source": [
    "entries = mt.entries()\n",
    "# MatrixTableからentriesフィイールドをHail tableとして取り出す\n",
    "\n",
    "results = (entries.group_by(pop = entries.pheno.SuperPopulation, chromosome = entries.locus.contig)\n",
    "      .aggregate(n_het = hl.agg.count_where(entries.GT.is_het())))\n",
    "\n",
    "# SuperPopulation, 染色体番号でgroup化し、ヘテロである数をカウント"
   ]
  },
  {
   "cell_type": "code",
   "execution_count": null,
   "metadata": {},
   "outputs": [],
   "source": [
    "results.show(10)"
   ]
  },
  {
   "cell_type": "markdown",
   "metadata": {},
   "source": [
    "```\n",
    "entries = mt.entries()\n",
    "```\n",
    "↑では、[MatrixTable.entries](https://hail.is/docs/0.2/hail.MatrixTable.html#hail.MatrixTable.entries) メソッドを使用して、MatrixTableをTable(HailのTable)に変換しました（サンプル、バリアントごとに1行あります。 ）。  \n",
    "Tableでは様々なフィールドを使った集計がより簡単できます。  \n",
    "(これは、レアバリアント分析のよくある最初のステップです。)\n",
    "\n",
    "MAF(minor allele frequency)ビンと髪の色でグループ化し、GQの平均値を計算したい場合は次のようにします。"
   ]
  },
  {
   "cell_type": "code",
   "execution_count": null,
   "metadata": {},
   "outputs": [],
   "source": [
    "#entries.show()"
   ]
  },
  {
   "cell_type": "code",
   "execution_count": null,
   "metadata": {},
   "outputs": [],
   "source": [
    "entries = entries.annotate(maf_bin = hl.if_else(entries.info.AF[0]<0.01, \"< 1%\", \n",
    "                             hl.if_else(entries.info.AF[0]<0.05, \"1%-5%\", \">5%\")))\n",
    "\n",
    "results2 = (entries.group_by(af_bin = entries.maf_bin, purple_hair = entries.pheno.PurpleHair)\n",
    "      .aggregate(mean_gq = hl.agg.stats(entries.GQ).mean, \n",
    "                 mean_dp = hl.agg.stats(entries.DP).mean))\n",
    "\n",
    "# maf_binを追加。 info.AF[0]が< 0.01なら1%, など\n",
    "# maf_binごと、purple_haiirごとにgroup化し、\n",
    "# gq, dqの平均値を算出"
   ]
  },
  {
   "cell_type": "code",
   "execution_count": null,
   "metadata": {},
   "outputs": [],
   "source": [
    "results2.show()"
   ]
  },
  {
   "cell_type": "markdown",
   "metadata": {},
   "source": [
    " 任意の統計値を簡単に集計できることを示しました。  \n",
    " この特定の例がぴったりはまるとは限りませんが、このようなパターンを使用することで、まれな変動の影響を検出できます。\n",
    "\n",
    "- 遺伝子ごとの機能的制約を推定するために、機能的カテゴリー（同義、ミスセンス、または機能喪失）ごとに遺伝子ごとのヘテロ接合遺伝子型の数を数えます\n",
    "- 疾患に関与する遺伝子を検出するために、症例および対照における遺伝子あたりのシングルトン機能喪失変異の数を数える"
   ]
  },
  {
   "cell_type": "markdown",
   "metadata": {},
   "source": [
    "***\n",
    "## Epilogue\n",
    "\n",
    "おつかれさまでした！  \n",
    "最初のtutorialであるこのGWAS tutorialが終わりました。\n",
    "さらなるHailのAPIと機能の詳細については、他のチュートリアルにも有用な情報があります。 \n",
    "Hail関数のドキュメントについては、[Python API](https://hail.is/docs/0.2/api.html#python-api) を確認してください。 \n",
    "自分の研究にHailを使用している場合は、[Zulip chat](https://hail.zulipchat.com) や [discussion forum](https://discuss.hail.is)でご意見をお聞かせください。\n",
    "\n",
    "参考までに、今日のワークフローを1つのセルにまとめたものを次に示します。"
   ]
  },
  {
   "cell_type": "code",
   "execution_count": null,
   "metadata": {},
   "outputs": [],
   "source": [
    "table = hl.import_table('data/1kg_annotations.txt', impute=True).key_by('Sample')\n",
    "\n",
    "mt = hl.read_matrix_table('data/1kg.mt')\n",
    "mt = mt.annotate_cols(pheno = table[mt.s])\n",
    "mt = hl.sample_qc(mt)\n",
    "mt = mt.filter_cols((mt.sample_qc.dp_stats.mean >= 4) & (mt.sample_qc.call_rate >= 0.97))\n",
    "ab = mt.AD[1] / hl.sum(mt.AD)\n",
    "filter_condition_ab = ((mt.GT.is_hom_ref() & (ab <= 0.1)) |\n",
    "                        (mt.GT.is_het() & (ab >= 0.25) & (ab <= 0.75)) |\n",
    "                        (mt.GT.is_hom_var() & (ab >= 0.9)))\n",
    "mt = mt.filter_entries(filter_condition_ab)\n",
    "mt = hl.variant_qc(mt)\n",
    "mt = mt.filter_rows(mt.variant_qc.AF[1] > 0.01)\n",
    "\n",
    "eigenvalues, pcs, _ = hl.hwe_normalized_pca(mt.GT)\n",
    "\n",
    "mt = mt.annotate_cols(scores = pcs[mt.s].scores)\n",
    "gwas = hl.linear_regression_rows(\n",
    "    y=mt.pheno.CaffeineConsumption, \n",
    "    x=mt.GT.n_alt_alleles(),\n",
    "    covariates=[1.0, mt.pheno.isFemale, mt.scores[0], mt.scores[1], mt.scores[2]])"
   ]
  },
  {
   "cell_type": "code",
   "execution_count": null,
   "metadata": {},
   "outputs": [],
   "source": []
  }
 ],
 "metadata": {
  "anaconda-cloud": {},
  "kernelspec": {
   "display_name": "Python 3 (ipykernel)",
   "language": "python",
   "name": "python3"
  },
  "language_info": {
   "codemirror_mode": {
    "name": "ipython",
    "version": 3
   },
   "file_extension": ".py",
   "mimetype": "text/x-python",
   "name": "python",
   "nbconvert_exporter": "python",
   "pygments_lexer": "ipython3",
   "version": "3.9.7"
  }
 },
 "nbformat": 4,
 "nbformat_minor": 4
}
